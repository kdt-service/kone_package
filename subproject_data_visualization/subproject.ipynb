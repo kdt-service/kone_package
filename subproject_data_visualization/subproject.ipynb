{
 "cells": [
  {
   "attachments": {},
   "cell_type": "markdown",
   "metadata": {},
   "source": [
    "## 나스닥 가격 크롤링"
   ]
  },
  {
   "attachments": {},
   "cell_type": "markdown",
   "metadata": {},
   "source": [
    "### 휴장으로 인한 missing values(dates, prices) 가 있는 데이터 "
   ]
  },
  {
   "cell_type": "code",
   "execution_count": 2,
   "metadata": {},
   "outputs": [],
   "source": [
    "import requests \n",
    "from bs4 import BeautifulSoup \n",
    "import datetime\n",
    "import time\n",
    "\n",
    "URL_TEMPLATE = 'https://finance.yahoo.com/quote/%5EIXIC/history?period1={}&period2={}&interval=1d&filter=history&frequency=1d&includeAdjustedClose=tru'\n",
    "\n",
    "headers = {'User-Agent': 'Mozilla/5.0'}\n",
    "interval = datetime.timedelta(days=100)\n",
    "start_date = datetime.datetime(2018, 2, 22)\n",
    "end_date = datetime.datetime(2023, 2, 21)\n",
    "\n",
    "ranges = []\n",
    "while start_date <= end_date:\n",
    "    range_start = int(start_date.timestamp())\n",
    "    range_end = int((start_date + interval).timestamp())\n",
    "    ranges.append((range_start, range_end))\n",
    "    start_date += interval\n",
    "\n",
    "nasdaq_list = []\n",
    "\n",
    "for period1, period2 in ranges:\n",
    "    url = URL_TEMPLATE.format(period1, period2)\n",
    "    response = requests.get(url, headers=headers)\n",
    "    soup = BeautifulSoup(response.text, 'html.parser') \n",
    "    results = soup.select('tbody tr')\n",
    "\n",
    "    for result in results:\n",
    "        date = result.select_one('td:nth-child(1)').text\n",
    "        price = result.select_one('td:nth-child(5)').text\n",
    "\n",
    "        nasdaq_list.append({\n",
    "            'date': date,\n",
    "            'price': price\n",
    "        })\n",
    "\n",
    "    time.sleep(5)\n",
    "\n",
    "nasdaq_list_sorted = sorted(nasdaq_list, key=lambda x: datetime.datetime.strptime(x['date'], '%b %d, %Y')) # missing dates가 있는 데이터 "
   ]
  },
  {
   "attachments": {},
   "cell_type": "markdown",
   "metadata": {},
   "source": [
    "### missing values 를 전날 가격으로 대체한 데이터"
   ]
  },
  {
   "cell_type": "code",
   "execution_count": 13,
   "metadata": {},
   "outputs": [],
   "source": [
    "nasdaq_list_modified = []\n",
    "\n",
    "last_nasdaq_price = None\n",
    "\n",
    "for bitcoin in bitcoin_list_modified:\n",
    "    date = bitcoin['date']\n",
    "    \n",
    "    for nasdaq in nasdaq_list_sorted:\n",
    "        if nasdaq['date'] == date:\n",
    "            last_nasdaq_price = nasdaq['price']\n",
    "            break\n",
    "    \n",
    "    if last_nasdaq_price is None:\n",
    "        # If no matching date found, use last available price\n",
    "        nasdaq_list_modified.append({\n",
    "            'date': date,\n",
    "            'price': last_nasdaq_price\n",
    "        })\n",
    "    else:\n",
    "        nasdaq_list_modified.append({\n",
    "            'date': date,\n",
    "            'price': last_nasdaq_price\n",
    "        })\n",
    "\n",
    "nasdaq_list_modified_sorted = nasdaq_list_modified[0:1836] \n"
   ]
  },
  {
   "cell_type": "code",
   "execution_count": 14,
   "metadata": {},
   "outputs": [],
   "source": [
    "import json\n",
    "\n",
    "# 파일에 저장할 데이터\n",
    "data = {'nasdaq_list': nasdaq_list_modified_sorted}\n",
    "\n",
    "# 파일에 데이터를 쓰기\n",
    "with open('nasdaq_data.json', 'w') as f:\n",
    "    json.dump(data, f)"
   ]
  },
  {
   "cell_type": "code",
   "execution_count": 15,
   "metadata": {},
   "outputs": [],
   "source": [
    "import json\n",
    "\n",
    "# 파일에서 데이터를 읽어오기\n",
    "with open('nasdaq_data.json', 'r') as f:\n",
    "    data = json.load(f)\n",
    "\n",
    "# 데이터 사용하기\n",
    "nasdaq_list_modified_sorted = data['nasdaq_list']"
   ]
  },
  {
   "cell_type": "code",
   "execution_count": 16,
   "metadata": {},
   "outputs": [],
   "source": [
    "nasdaq_prices_sorted = [item['price'] for item in nasdaq_list_modified_sorted]"
   ]
  },
  {
   "cell_type": "code",
   "execution_count": 17,
   "metadata": {},
   "outputs": [],
   "source": [
    "nasdaq_dates_sorted = [item['date'] for item in nasdaq_list_modified_sorted]"
   ]
  },
  {
   "attachments": {},
   "cell_type": "markdown",
   "metadata": {},
   "source": [
    "## 비트코인 가격 크롤링"
   ]
  },
  {
   "cell_type": "code",
   "execution_count": 5,
   "metadata": {},
   "outputs": [],
   "source": [
    "import requests \n",
    "from bs4 import BeautifulSoup \n",
    "import datetime\n",
    "import time\n",
    "\n",
    "URL_TEMPLATE = 'https://finance.yahoo.com/quote/BTC-USD/history?period1={}&period2={}&interval=1d&filter=history&frequency=1d&includeAdjustedClose=true'\n",
    "\n",
    "headers = {'User-Agent': 'Mozilla/5.0'}\n",
    "interval = datetime.timedelta(days=100)\n",
    "start_date = datetime.datetime(2018, 2, 21)\n",
    "end_date = datetime.datetime(2023, 2, 21)\n",
    "\n",
    "ranges = []\n",
    "while start_date <= end_date:\n",
    "    range_start = int(start_date.timestamp())\n",
    "    range_end = int((start_date + interval).timestamp())\n",
    "    ranges.append((range_start, range_end))\n",
    "    start_date += interval\n",
    "\n",
    "bitcoin_list = []\n",
    "\n",
    "for period1, period2 in ranges:\n",
    "    url = URL_TEMPLATE.format(period1, period2)\n",
    "    response = requests.get(url, headers=headers)\n",
    "    soup = BeautifulSoup(response.text, 'html.parser') \n",
    "    results = soup.select('tbody tr')\n",
    "\n",
    "    for result in results:\n",
    "        date = result.select_one('td:nth-child(1)').text\n",
    "        price = result.select_one('td:nth-child(5)').text\n",
    "\n",
    "        bitcoin_list.append({\n",
    "            'date': date,\n",
    "            'price': price\n",
    "        })\n",
    "\n",
    "    time.sleep(5)\n",
    "\n",
    "bitcoin_list_sorted = sorted(bitcoin_list, key=lambda x: datetime.datetime.strptime(x['date'], '%b %d, %Y'))"
   ]
  },
  {
   "cell_type": "code",
   "execution_count": 8,
   "metadata": {},
   "outputs": [],
   "source": [
    "bitcoin_list_modified = []\n",
    "\n",
    "for data in bitcoin_list_sorted:\n",
    "    bitcoin_list_modified.append({\n",
    "        'date': data['date'],\n",
    "        'price': ''\n",
    "    })"
   ]
  },
  {
   "cell_type": "code",
   "execution_count": 9,
   "metadata": {},
   "outputs": [],
   "source": [
    "import json\n",
    "\n",
    "# 파일에 저장할 데이터\n",
    "data = {'bitcoin_list': bitcoin_list_sorted}\n",
    "\n",
    "# 파일에 데이터를 쓰기\n",
    "with open('bitcoin_data.json', 'w') as f:\n",
    "    json.dump(data, f)"
   ]
  },
  {
   "cell_type": "code",
   "execution_count": 10,
   "metadata": {},
   "outputs": [],
   "source": [
    "import json\n",
    "\n",
    "# 파일에서 데이터를 읽어오기\n",
    "with open('bitcoin_data.json', 'r') as f:\n",
    "    data = json.load(f)\n",
    "\n",
    "# 데이터 사용하기\n",
    "bitcoin_list_sorted = data['bitcoin_list']"
   ]
  },
  {
   "cell_type": "code",
   "execution_count": 11,
   "metadata": {},
   "outputs": [],
   "source": [
    "bitcoin_dates_sorted = [item['date'] for item in bitcoin_list_sorted]"
   ]
  },
  {
   "cell_type": "code",
   "execution_count": 26,
   "metadata": {},
   "outputs": [
    {
     "data": {
      "text/plain": [
       "1836"
      ]
     },
     "execution_count": 26,
     "metadata": {},
     "output_type": "execute_result"
    }
   ],
   "source": [
    "len(bitcoin_dates_sorted)"
   ]
  },
  {
   "cell_type": "code",
   "execution_count": 12,
   "metadata": {},
   "outputs": [],
   "source": [
    "bitcoin_prices_sorted = [item['price'] for item in bitcoin_list_sorted]"
   ]
  },
  {
   "attachments": {},
   "cell_type": "markdown",
   "metadata": {},
   "source": [
    "## 한번에 두개 그래프 그리기 \n",
    "### x 축은 날짜, y1은 비트코인 가격, y2은 나스닥 가격"
   ]
  },
  {
   "cell_type": "code",
   "execution_count": 43,
   "metadata": {},
   "outputs": [
    {
     "data": {
      "image/png": "[encoded data removed]",
      "text/plain": [
       "<Figure size 1500x500 with 2 Axes>"
      ]
     },
     "metadata": {},
     "output_type": "display_data"
    }
   ],
   "source": [
    "import numpy as np \n",
    "import matplotlib.pyplot as plt\n",
    "import datetime as dt \n",
    "import matplotlib.dates as mdates\n",
    "import matplotlib.ticker as ticker\n",
    "import pandas as pd\n",
    "\n",
    "bitcoin_df = pd.DataFrame(bitcoin_list_sorted)\n",
    "nasdaq_df = pd.DataFrame(nasdaq_list_modified_sorted)\n",
    "\n",
    "x = bitcoin_df['date']\n",
    "y1 = bitcoin_df['price']\n",
    "y2 = nasdaq_df['price']\n",
    "\n",
    "# 그래프 사이즈 조정 \n",
    "fig, ax1 = plt.subplots(figsize=(15,5)) \n",
    "\n",
    "# x축, y1 비트코인 그래프 설정 \n",
    "color = 'tab:red'\n",
    "ax1.set_xlabel('date', fontsize = 15)\n",
    "ax1.set_ylabel('bitcoin', fontsize = 15, color=color)\n",
    "ax1.plot(x, y1, color=color, label='Bitcoin')\n",
    "ax1.tick_params(axis='y', labelcolor=color)\n",
    "\n",
    "\n",
    "ax1.set_yticks(np.arange(3000, 65000, 10000))\n",
    "ax1.yaxis.set_major_locator(ticker.MultipleLocator(10000))\n",
    "\n",
    "ax2 = ax1.twinx() \n",
    "\n",
    "color = 'tab:blue'\n",
    "ax2.set_ylabel('nasdaq', fontsize = 15, color=color) \n",
    "ax2.plot(x, y2, color=color, label='Nasdaq')\n",
    "ax2.tick_params(axis='y', labelcolor=color)\n",
    "\n",
    "ax2.set_yticks(np.arange(6000, 16000, 2000))\n",
    "ax2.yaxis.set_major_locator(ticker.MultipleLocator(2000))\n",
    "\n",
    "#범례 추가 \n",
    "lines, labels = ax1.get_legend_handles_labels()\n",
    "lines2, labels2 = ax2.get_legend_handles_labels()\n",
    "ax2.legend(lines + lines2, labels + labels2, loc='upper left')\n",
    "\n",
    "fig.tight_layout()  \n",
    "\n",
    "#눈금 설정 \n",
    "ax1.set_xlim(bitcoin_dates_sorted[0], bitcoin_dates_sorted[-1])\n",
    "ax1.xaxis.set_major_locator(mdates.YearLocator())\n",
    "\n",
    "plt.title('Bitcoin and Nasdaq Price Change Over 5 years', fontsize=15) \n",
    "plt.show() \n",
    "\n"
   ]
  }
 ],
 "metadata": {
  "kernelspec": {
   "display_name": "study",
   "language": "python",
   "name": "python3"
  },
  "language_info": {
   "codemirror_mode": {
    "name": "ipython",
    "version": 3
   },
   "file_extension": ".py",
   "mimetype": "text/x-python",
   "name": "python",
   "nbconvert_exporter": "python",
   "pygments_lexer": "ipython3",
   "version": "3.10.9"
  },
  "orig_nbformat": 4,
  "vscode": {
   "interpreter": {
    "hash": "d212c924fad1722a1a4ac8c414ac23188391b50d8de6a905bfd61a1955a4cd02"
   }
  }
 },
 "nbformat": 4,
 "nbformat_minor": 2
}
